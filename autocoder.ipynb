{
 "cells": [
  {
   "cell_type": "markdown",
   "metadata": {
    "colab_type": "text",
    "id": "Um8VvA2G5WOb"
   },
   "source": [
    "# AutoCoder"
   ]
  },
  {
   "cell_type": "markdown",
   "metadata": {
    "colab_type": "text",
    "id": "yChq7N5VeKtt"
   },
   "source": [
    "The high level idea is to first produce a language model for programming languages. It can then be used to do cool machine learning on code. I yet do not know what that is."
   ]
  },
  {
   "cell_type": "code",
   "execution_count": 1,
   "metadata": {
    "colab": {},
    "colab_type": "code",
    "id": "SDCJ2qDp5WOc"
   },
   "outputs": [],
   "source": [
    "%reload_ext autoreload\n",
    "%autoreload 2\n",
    "%matplotlib inline"
   ]
  },
  {
   "cell_type": "code",
   "execution_count": 2,
   "metadata": {
    "colab": {},
    "colab_type": "code",
    "id": "xKlnFvJQ5WOm"
   },
   "outputs": [],
   "source": [
    "from fastai.text import *\n",
    "from fastai import *"
   ]
  },
  {
   "cell_type": "markdown",
   "metadata": {
    "colab_type": "text",
    "id": "hwt-J62T5WOu"
   },
   "source": [
    "## Preparing the data"
   ]
  },
  {
   "cell_type": "markdown",
   "metadata": {
    "colab_type": "text",
    "id": "LxyXxUbuceAP"
   },
   "source": [
    "Download the data from my github"
   ]
  },
  {
   "cell_type": "code",
   "execution_count": 4,
   "metadata": {
    "colab": {
     "base_uri": "https://localhost:8080/",
     "height": 35
    },
    "colab_type": "code",
    "id": "ryZco4fd0ClU",
    "outputId": "e4a19d85-5708-4a40-c869-1443ce6f019f"
   },
   "outputs": [],
   "source": [
    "path = untar_data('https://github.com/DerJesko/autocoder/raw/master/data/modified/c')"
   ]
  },
  {
   "cell_type": "code",
   "execution_count": 7,
   "metadata": {
    "colab": {
     "base_uri": "https://localhost:8080/",
     "height": 35
    },
    "colab_type": "code",
    "id": "-8QBGn_Pc1Bj",
    "outputId": "be67c54f-e210-48d2-f8e4-f8e14ed6d922"
   },
   "outputs": [],
   "source": [
    "#path.ls()"
   ]
  },
  {
   "cell_type": "code",
   "execution_count": 10,
   "metadata": {
    "colab": {
     "base_uri": "https://localhost:8080/",
     "height": 349
    },
    "colab_type": "code",
    "id": "oXaFfeBv5WPH",
    "outputId": "d25086cd-5ba7-4f85-8274-69b5a9292b08"
   },
   "outputs": [
    {
     "data": {
      "text/html": [],
      "text/plain": [
       "<IPython.core.display.HTML object>"
      ]
     },
     "metadata": {},
     "output_type": "display_data"
    },
    {
     "data": {
      "text/html": [],
      "text/plain": [
       "<IPython.core.display.HTML object>"
      ]
     },
     "metadata": {},
     "output_type": "display_data"
    },
    {
     "data": {
      "text/plain": [
       "TextLMDataBunch;\n",
       "\n",
       "Train: LabelList (16916 items)\n",
       "x: LMTextList\n",
       "xxbos comment xxwrep 4 preproc const var0 var1 ; const var0 var2 ; const var0 var3 ; const var0 var4 ; const var0 var5 ;,xxbos comment xxwrep 8 preproc comment void var0 ( var1 * var2 ) { var2 - > var3 = 0 ; var2 - > var4 = 0 ; var2 - > var5 = 0 ; var6 ( & var2 - > var7 ) ; var6 ( & var2 - > var8 ) ; var6 ( & var2 - > var9 ) ; var2 - > var10 = floatl ; } comment void var11 ( var1 * var2 , const var12 * var13 , var14 * var15 ) { if ( var2 - > var3 = = 0 ) { var2 - > var8 = * var13 ; var2 - > var5 = var15 - > var3 ; var2 - > var7 = * var13 ; var2 - > var4 = var15 - > var3 ; } if ( ( var13 - > var16 < var2 - > var7 . var16 ) | | ( ( var13 - > var16 = = var2 - > var7 . var16 ) & & ( var13 - > var17 < var2 - > var7 . var17 ) ) ) { var2 - > var7 = * var13 ; var2 - > var4 = var15 - > var3 ; } if ( ( var13 - > var16 > var2 - > var8 . var16 ) | | ( ( var13 - > var16 = = var2 - > var8 . var16 ) & & ( var13 - > var17 > var2 - > var8 . var17 ) ) ) { var2 - > var8 = * var13 ; var2 - > var5 = var15 - > var3 ; } var18 ( & var2 - > var9 , var13 ) ; var2 - > var3 + + ; } comment var19 var20 ( const var12 * var21 , var22 var3 ) { var19 var23 ; if ( var3 > 0 ) { var23 = ( double ) var21 - > var16 * intl + ( double ) var21 - > var17 / intl ; var23 / = var3 ; } else { var23 = 0 ; } return var23 ; } comment,xxbos comment comment xxwrep 52 preproc comment xxwrep 12 preproc void var0 ( void ) ; comment typedef struct var1 { var2 var3 ; var4 var5 ; var6 var7 ; struct var8 * var9 ; } var10 ; comment typedef struct var8 { var10 * var11 ; var12 var13 ; var4 var14 ; var15 var16 ; var17 var18 ; var6 var19 , var20 , var21 ; } var22 ; comment typedef struct var23 { char * var24 ; var25 * var26 , * var27 , * var28 ; var17 var29 , var30 ; var6 var20 , var31 ; var32 var33 ; var34 * var35 ; var36 var37 ; var12 var38 , var39 , var40 , var41 , var42 , var43 ; var12 var44 , var45 ; } var46 ; comment static var47 var48 = floatl ; static var15 var49 , var50 ; static var36 var51 = var52 , var53 = var52 ; comment static void var54 ( void * var55 var56 ) { } comment static int var57 ( void * var58 , var59 * var60 , var61 * var62 var56 , const void * var63 ) { var46 * var64 = ( var46 * ) var58 ; const var65 * var66 = ( const var65 * ) var63 ; var22 * var67 ; var68 var69 [ 3 ] ; var4 var70 = 0 ; comment if ( var64 - > var29 . var71 = = 0 ) { var72 ( & var64 - > var29 , & var60 - > var18 ) ; var72 ( & var64 - > var30 , & var60 - > var73 ) ; } comment var69 [ 0 ] . var74 = & var66 - > var75 ; var69 [ 0 ] . var71 = var76 ; comment var69 [ 1 ] . var74 = & var66 - > var77 ; var69 [ 1 ] . var71 = 1 ; comment var69 [ 2 ] . var74 = ( const var15 * ) var66 - > var78 . var79 ; var69 [ 2 ] . var74 = var69 [ 2 ] . var74 + var66 - > var78 . var71 ; comment var69 [ 2 ] . var71 = var66 - > var80 - 20 ; var70 = var81 ( & var69 [ 0 ] , 3 ) ; comment var67 = ( var22 * ) var82 ( sizeof ( var22 ) ) ; var67 - > var11 = ( var10 * ) var82 ( sizeof ( var10 ) ) ; var67 - > var11 - > var9 = xxup null ; var67 - > var11 - > var3 = 1 ; var67 - > var11 - > var5 = var70 ; var67 - > var13 = var60 - > var13 ; var67 - > var14 = var66 - > var83 ; var67 - > var16 = var66 - > var16 ; var72 ( & var67 - > var18 , & var60 - > var18 ) ; var67 - > var19 = var60 - > var19 ; comment var84 ( & var67 - > var20 ) ; var84 ( & var67 - > var11 - > var7 ) ; var85 ( var64 - > var26 , var86 ( var60 - > var13 ) , var67 ) ; return 1 ; } static void var87 ( var88 var79 ) { var22 * var67 = ( var22 * ) var79 ; var89 ( var67 - > var11 ) ; var89 ( var67 ) ; } comment static void var90 ( var88 var91 var56 , var88 var92 , var88 var58 ) { var46 * var64 = ( var46 * ) var58 ; var22 * var67 = ( var22 * ) var92 , * var93 ; var6 var21 ; var2 var94 ; comment var59 * var60 = ( var59 * ) var82 ( sizeof ( var59 ) ) ; var60 - > var95 = ( var96 * ) var82 ( sizeof ( var96 ) ) ; var60 - > var13 = var67 - > var13 ; var93 = ( var22 * ) var97 ( var64 - > var27 , var86 ( ( var98 ) var67 - > var14 ) ) ; if ( var93 = = xxup null ) { comment if ( ( var64 - > var37 = = var99 ) & & ( var64 - > var38 > var49 ) & & ( var64 - > var39 < var50 ) ) { var64 - > var39 + + ; var64 - > var42 = var67 - > var13 ; } else if ( var64 - > var39 < var50 ) { var64 - > var39 = 0 ; var64 - > var42 = var100 ; } var64 - > var37 = var99 ; var67 - > var11 - > var3 = 1 ; var85 ( var64 - > var27 , var86 ( ( var98 ) var67 - > var14 ) , var67 ) ; } else { comment if ( ( var64 - > var37 | | ( var49 = = 0 ) ) & & ( var64 - > var38 < var49 | | ( var49 = = 0 ) ) ) { if ( ( var49 = = 0 ) & & ( var64 - > var38 ! = 0 ) ) { comment } else { var64 - > var38 + + ; comment var64 - > var40 = var93 - > var13 ; var64 - > var41 = var67 - > var13 ; } } else if ( var64 - > var38 < var49 ) { var64 - > var38 = 0 ; var64 - > var40 = var100 ; } var64 - > var37 = var52 ; var67 - > var11 - > var3 = var93 - > var11 - > var3 + 1 ; if ( var93 - > var11 - > var5 ! = var67 - > var11 - > var5 ) { var67 - > var11 - > var5 = var101 ; var93 - > var11 - > var5 = var101 ; } comment var67 - > var11 - > var9 = var93 ; comment if ( var67 - > var11 - > var3 = = var102 ) { var103 ( & var21 , & var67 - > var19 , & var93 - > var19 ) ; comment var84 ( & var93 - > var21 ) ; var104 ( & var93 - > var21 , & var21 ) ; var84 ( & var67 - > var21 ) ; var104 ( & var67 - > var21 , & var21 ) ; var105 ( & var64 - > var33 , & var21 , var60 ) ; } var85 ( var64 - > var27 , var86 ( ( var98 ) var67 - > var14 ) , var67 ) ; } comment if ( var51 & & ( var67 - > var13 < var106 ) ) { for ( var94 = 0 ; var94 < var64 - > var35 - > var71 ; var94 + + ) { if ( var107 ( var64 - > var35 , var15 , var94 ) = = var67 - > var16 ) { return ; } } var108 ( var64 - > var35 , var67 - > var16 ) ; } var89 ( var60 - > var95 ) ; var89 ( var60 ) ; } comment static void var109 ( var88 var91 var56 , var88 var92 , var88 var58 ) { var46 * var64 = ( var46 * ) var58 ; var22 * var67 = ( var22 * ) var92 , * var93 ; comment var93 = ( var22 * ) var97 ( var64 - > var28 , var86 ( ( var98 ) var67 - > var14 ) ) ; if ( var93 = = xxup null ) { if ( var51 = = var99 ) { if ( ( var110 ( & var64 - > var29 , & var67 - > var18 ) ) | | ( var110 ( & var64 - > var30 , & var67 - > var18 ) ) ) { var85 ( var64 - > var28 , var86 ( ( var98 ) var67 - > var14 ) , var67 ) ; var67 - > var20 = var64 - > var20 ; var64 - > var20 . var111 = var64 - > var20 . var111 + var102 ; } else { var64 - > var20 . var111 + + ; var85 ( var64 - > var28 , var86 ( ( var98 ) var67 - > var14 ) , var67 ) ; var67 - > var20 = var64 - > var20 ; var64 - > var20 . var111 + + ; } } else { if ( ( var107 ( var64 - > var35 , var15 , 0 ) = = var67 - > var16 ) | | ( var107 ( var64 - > var35 , var15 , 1 ) = = var67 - > var16 ) ) { var85 ( var64 - > var28 , var86 ( ( var98 ) var67 - > var14 ) , var67 ) ; var67 - > var20 = var64 - > var20 ; var64 - > var20 . var111 = var64 - > var20 . var111 + var102 ; } else { var64 - > var20 . var111 + + ; var85 ( var64 - > var28 , var86 ( ( var98 ) var67 - > var14 ) , var67 ) ; var67 - > var20 = var64 - > var20 ; var64 - > var20 . var111 + + ; } } } else { if ( var51 = = var99 ) { if ( ( ( var110 ( & var64 - > var29 , & var67 - > var18 ) ) | | ( var110 ( & var64 - > var30 , & var67 - > var18 ) ) ) & & ( ! var112 ( var93 - > var20 . var111 , var102 ) ) ) { var67 - > var20 . var111 = var93 - > var20 . var111 ; } else { var67 - > var20 . var111 = var93 - > var20 . var111 + 1 ; } } else { if ( ( ( var107 ( var64 - > var35 , var15 , 0 ) = = var67 - > var16 ) | | ( var107 ( var64 - > var35 , var15 , 1 ) = = var67 - > var16 ) ) & & ( ! var112 ( var93 - > var20 . var111 , var102 ) ) ) { var67 - > var20 . var111 = var93 - > var20 . var111 ; } else { var67 - > var20 . var111 = var93 - > var20 . var111 + 1 ; } } } comment if ( var112 ( var67 - > var20 . var111 , var102 ) ) { var64 - > var44 + + ; } else { var64 - > var45 + + ; } comment if ( ! var113 ( & var64 - > var31 ) ) { var67 - > var11 - > var7 . var111 = var64 - > var31 . var111 ; } var64 - > var31 . var111 = var67 - > var20 . var111 ; } comment static void var114 ( var88 var91 var56 , var88 var92 , var88 var58 ) { var46 * var64 = ( var46 * ) var58 ; var22 * var67 = ( var22 * ) var92 , * var93 = xxup null ; var12 var115 = var64 - > var44 + var64 - > var45 , var116 ; if ( ( var67 - > var13 = = var115 ) & & ( var64 - > var42 ! = var100 ) ) { comment var116 = var64 - > var42 ; var64 - > var42 = var115 - var64 - > var45 ; var64 - > var43 = var116 ; } if ( ( var67 - > var13 = = var115 ) & & ( var64 - > var42 = = var100 ) & & ( var64 - > var40 ! = var100 ) ) { var93 = ( var22 * ) var97 ( var64 - > var26 , var86 ( var64 - > var40 ) ) ; if ( var93 = = xxup null ) { var117 ( xxwrep 4 stringl ) ; return ; } if ( var112 ( var93 - > var20 . var111 , 2 ) ) { comment var64 - > var42 = var64 - > var40 + ( var64 - > var45 - ( var64 - > var41 - var64 - > var44 ) ) ; if ( var64 - > var42 > ( var115 - var64 - > var45 ) ) { var64 - > var42 = var115 - var64 - > var45 ; } comment if ( var64 - > var42 > var64 - > var41 ) { var64 - > var42 = var64 - > var41 - 1 ; } var93 = ( var22 * ) var97 ( var64 - > var26 , var86 ( var64 - > var42 ) ) ; while ( ( var93 ! = xxup null ) ? var112 ( ! var93 - > var20 . var111 , 2 ) : var52 ) { var64 - > var42 - - ; var93 = ( var22 * ) var97 ( var64 - > var26 , var86 ( var64 - > var42 ) ) ; } } else { comment var64 - > var42 = var64 - > var44 + var64 - > var40 ; if ( var64 - > var42 > var115 - var64 - > var44 ) { var64 - > var42 = var115 - var64 - > var44 ; } var93 = ( var22 * ) var97 ( var64 - > var26 , var86 ( var64 - > var42 ) ) ; while ( ( var93 ! = xxup null ) ? var112 ( var93 - > var20 . var111 , 2 ) : var52 ) { var64 - > var42 - - ; var93 = ( var22 * ) var97 ( var64 - > var26 , var86 ( var64 - > var42 ) ) ; } } comment var64 - > var43 = var64 - > var41 + ( var64 - > var42 - var64 - > var40 ) ; if ( var64 - > var43 > var115 ) { var64 - > var43 = var115 ; } } comment if ( var67 - > var13 = = var115 & & var49 ! = 0 & & var50 ! = 0 ) { if ( var64 - > var40 = = var100 ) { var117 ( stringl stringl stringl ) ; } } } static void var118 ( var88 var91 var56 , var88 var92 , var88 var119 ) { var22 * var67 = ( var22 * ) var92 ; var46 * var64 = ( var46 * ) var119 ; var47 var21 , var120 ; var36 var121 = var99 ; var36 var122 = var99 ; var36 var123 = var99 ; var36 var124 = var99 ; var21 = var125 ( var126 ( & var67 - > var21 , 1 ) ) ; var120 = var125 ( var126 ( & var64 - > var33 . var127 , var64 - > var33 . var13 ) ) ; comment if ( var49 ! = 0 & & var50 ! = 0 ) { comment if ( ( var64 - > var40 < var67 - > var13 ) & & ( var64 - > var42 > var67 - > var13 ) ) { var121 = var52 ; } else { comment if ( ( var67 - > var13 > var64 - > var41 ) & & ( var67 - > var13 < var64 - > var43 ) ) { var121 = var52 ; } } } else { var121 = var52 ; } if ( var121 ) { if ( var67 - > var11 - > var3 < var102 ) { var117 ( xxwrep 4 stringl , var67 - > var14 , var67 - > var11 - > var3 ) ; } if ( var67 - > var11 - > var3 > var102 ) { if ( var67 - > var11 - > var5 = = var101 ) { var122 = var52 ; } var117 ( xxwrep 4 stringl , var67 - > var14 , var67 - > var11 - > var3 , var122 ? stringl stringl stringl : stringl stringl ) ; } if ( var67 - > var11 - > var3 = = var102 ) { if ( var67 - > var11 - > var5 = = var101 ) { var117 ( xxwrep 4 stringl , var67 - > var14 , var67 - > var11 - > var3 ) ; if ( ( ( var21 < ( var120 - var64 - > var33 . var128 ) ) | | ( var21 > ( var120 + var64 - > var33 . var128 ) ) ) & & ( var21 > floatl ) & & ( var64 - > var33 . var128 ! = 0 ) ) { var123 = var52 ; } if ( ( var129 ( & var67 - > var11 - > var7 , & var67 - > var20 ) > 0 | | var129 ( & var67 - > var11 - > var9 - > var11 - > var7 , & var67 - > var11 - > var9 - > var20 ) > 0 ) & & ( var67 - > var20 . var111 ! = var102 ) & & var53 ) { var124 = var52 ; } var117 ( xxwrep 4 stringl , var67 - > var14 , var67 - > var11 - > var3 , var123 ? stringl stringl stringl : stringl stringl , var124 ? stringl stringl stringl : stringl stringl ) ; } else if ( ( ( var21 < ( var120 - var64 - > var33 . var128 ) ) | | ( var21 > ( var120 + var64 - > var33 . var128 ) ) ) & & ( var21 > floatl ) & & ( var64 - > var33 . var128 ! = 0 ) ) { var117 ( xxwrep 4 stringl , var67 - > var14 , var67 - > var11 - > var3 ) ; if ( ( var129 ( & var67 - > var11 - > var7 , & var67 - > var20 ) > 0 | | var129 ( & var67 - > var11 - > var9 - > var11 - > var7 , & var67 - > var11 - > var9 - > var20 ) > 0 ) & & var67 - > var20 . var111 ! = var102 & & var53 ) { var124 = var52 ; } var117 ( xxwrep 4 stringl , var67 - > var14 , var67 - > var11 - > var3 , var124 ? stringl stringl stringl : stringl stringl ) ; } else if ( ( var129 ( & var67 - > var11 - > var7 , & var67 - > var20 ) > 0 | | var129 ( & var67 - > var11 - > var9 - > var11 - > var7 , & var67 - > var11 - > var9 - > var20 ) > 0 ) & & var67 - > var20 . var111 ! = var102 & & var53 ) { var117 ( stringl stringl stringl , var67 - > var14 , var67 - > var11 - > var3 ) ; } } } } comment static void var130 ( void * var131 ) { var46 * var64 = ( var46 * ) var131 ; var132 * var133 = var134 ( stringl stringl ) ; const var135 * var136 ; var12 var44 , var45 ; comment var64 - > var20 . var137 = 0 ; var64 - > var20 . var111 = 1 ; var138 ( & var64 - > var31 ) ; var64 - > var35 = var139 ( var99 , var99 , sizeof ( var15 ) ) ; var64 - > var37 = var99 ; var64 - > var38 = 0 ; var64 - > var39 = 0 ; var64 - > var40 = var100 ; var64 - > var41 = var100 ; var64 - > var42 = var100 ; var64 - > var43 = var100 ; var64 - > var44 = 0 ; var64 - > var45 = 0 ; var140 ( & var64 - > var33 ) ; var64 - > var27 = var141 ( xxup null , xxup null ) ; var142 ( var64 - > var26 , var90 , var64 ) ; comment if ( var51 & & var64 - > var35 - > var71 = = 1 ) { var108 ( var64 - > var35 , var107 ( var64 - > var35 , var15 , 1 ) ) ; } var142 ( var64 - > var26 , var109 , var64 ) ; var142 ( var64 - > var26 , var114 , var64 ) ; comment var44 = var64 - > var44 ; var45 = var64 - > var45 ; comment var143 ( var64 - > var28 ) ; comment var64 - > var33 . var128 = var48 ; comment var136 = var144 ( xxwrep 32 stringl , var64 - > var24 ? var64 - > var24 : stringl stringl stringl , ( var44 + var45 ) , var44 , var45 , var64 - > var40 , var64 - > var42 , var64 - > var41 , var64 - > var43 , var64 - > var33 . var13 , var64 - > var33 . var128 , var125 ( var126 ( & var64 - > var33 . var127 , var64 - > var33 . var13 ) ) ) ; var117 ( stringl stringl stringl ) ; var117 ( xxwrep 4 stringl ) ; var117 ( xxwrep 4 stringl ) ; var117 ( xxwrep 4 stringl ) ; var117 ( stringl stringl stringl , var136 ) ; var142 ( var64 - > var27 , var118 , var64 ) ; var145 ( var133 , var52 ) ; var146 ( var64 - > var27 ) ; var147 ( var64 - > var35 , var52 ) ; } comment static void var148 ( const char * var149 , void * var150 var56 ) { var46 * var64 ; const char * var24 = xxup null ; var132 * var151 ; var98 var152 , var153 , var154 , var155 , var156 = 0 ; var47 var128 ; if ( var157 ( var149 , stringl stringl stringl , & var152 , & var153 , & var154 , & var155 , & var128 , & var156 ) = = 5 ) { if ( * ( var149 + var156 ) = = charl charl charl ) var24 = var149 + var156 + 1 ; } else { var158 ( var159 , xxwrep 8 stringl ) ; var160 ( 1 ) ; } var48 = var128 ; var49 = var152 ; var50 = var153 ; var51 = var154 ; var53 = var155 ; var64 = var161 ( var46 , 1 ) ; var138 ( & var64 - > var31 ) ; var64 - > var35 = var139 ( var99 , var99 , sizeof ( var15 ) ) ; var64 - > var37 = var99 ; var64 - > var38 = 0 ; var64 - > var39 = 0 ; var64 - > var40 = var100 ; var64 - > var41 = var100 ; var64 - > var42 = var100 ; var64 - > var43 = var100 ; var64 - > var44 = 0 ; var64 - > var45 = 0 ; var64 - > var20 . var137 = 0 ; var64 - > var20 . var111 = 1 ; var64 - > var28 = var141 ( xxup null , xxup null ) ; if ( var24 ) { var64 - > var24 = var162 ( var24 ) ; } else { var64 - > var24 = xxup null ; } comment var64 - > var26 = var163 ( xxup null , xxup null , xxup null , var87 ) ; var151 = var164 ( stringl stringl stringl , var64 , var24 , 0 , var54 , var57 , var130 ) ; if ( var151 ) { comment var89 ( var64 - > var24 ) ; var146 ( var64 - > var26 ) ; var89 ( var64 ) ; var158 ( var159 , xxwrep 4 stringl , var151 - > var165 ) ; var145 ( var151 , var52 ) ; var160 ( 1 ) ; } } static var166 var167 = { var168 , xxup null , stringl stringl stringl , var148 , 0 , xxup null } ; void var0 ( void ) { var169 ( & var167 , xxup null ) ; } comment,xxbos comment xxwrep 133 preproc comment preproc preproc preproc xxwrep 4 comment xxwrep 9 preproc static uint8_t var0 ; static bool var1 ; static bool var2 ; static uint8_t var3 [ var4 ] ; preproc preproc preproc typedef struct var5 { uint8_t var6 [ var7 ] ; int var8 ; } var9 ; static var9 var10 ; void var11 ( void ) { var10 . var8 = 0 ; } bool var12 ( uint8_t * var13 , int var14 ) { if ( var10 . var8 + var15 + var14 > var7 ) { return false ; } else { uint8_t * var16 = var10 . var6 + var10 . var8 ; * var16 + + = var14 ; var17 ( var16 , var13 , var14 ) ; var10 . var8 + = var15 + var14 ; return true ; } } bool var18 ( uint8_t var19 , var20 var21 ) { bool var22 = false ; if ( ! var10 . var8 ) { return false ; } int var23 = 0 ; while ( true ) { const int var24 = var10 . var6 [ var23 ] ; if ( var25 ( & var10 . var6 [ var15 + var23 ] , var24 ) ) { var22 | = var26 ( var19 , var21 ) ; } var23 + = var15 + var24 ; var27 ( var28 ) { if ( var23 > = var10 . var8 ) { var10 . var8 = 0 ; return var22 ; } } } return var22 ; } preproc preproc preproc static void var29 ( var30 * var31 ) { var0 = 0 ; var31 - > var32 = var3 ; var31 - > var33 = var34 ( var3 ) ; var35 ( var31 , var36 ) ; } static void var37 ( var30 * var31 , uint8_t var38 ) { var35 ( var31 , var38 ) ; var0 = var39 ( var0 , var38 ) ; } static void var40 ( var30 * var31 , uint16_t var38 ) { comment var37 ( var31 , ( var38 > > 8 ) ) ; var37 ( var31 , ( uint8_t ) var38 ) ; } static void var41 ( var30 * var31 , uint32_t var38 ) { comment var37 ( var31 , ( var38 > > 24 ) ) ; var37 ( var31 , ( var38 > > 16 ) ) ; var37 ( var31 , ( var38 > > 8 ) ) ; var37 ( var31 , ( uint8_t ) var38 ) ; } static void var42 ( var30 * var31 , const uint8_t * var43 , int var8 ) { for ( int var44 = 0 ; var44 < var8 ; + + var44 ) { var37 ( var31 , var43 [ var44 ] ) ; } } static void var45 ( var30 * var31 ) { var35 ( var31 , var0 ) ; var46 ( var31 , var3 ) ; comment var47 ( var48 ( var31 ) , var49 ( var31 ) ) ; } static int var50 ( var30 * var31 , uint8_t * var51 ) { var35 ( var31 , var0 ) ; var46 ( var31 , var3 ) ; const int var52 = var49 ( var31 ) ; for ( int var44 = 0 ; var49 ( var31 ) ; + + var44 ) { var51 [ var44 ] = var53 ( var31 ) ; } return var52 ; } comment comment static void var54 ( var30 * var31 ) { comment var35 ( var31 , var55 + var56 ) ; var37 ( var31 , var57 ) ; var41 ( var31 , var58 . var59 . var60 ) ; comment var41 ( var31 , var58 . var59 . var61 ) ; var40 ( var31 , ( var58 . var62 * 36 + 50 ) / 100 ) ; comment var40 ( var31 , var63 ( var58 . var64 ) ) ; comment const uint16_t var65 = ( var66 ( var67 ) / 100 ) + intl ; var40 ( var31 , var65 ) ; var37 ( var31 , var58 . var68 ) ; } comment static void var69 ( var30 * var31 ) { comment var35 ( var31 , var70 + var56 ) ; var37 ( var31 , var71 ) ; var40 ( var31 , var72 ( var73 ( var67 ) ) ) ; } comment static void var74 ( var30 * var31 ) { comment var35 ( var31 , var75 + var56 ) ; var37 ( var31 , var76 ) ; var40 ( var31 , var77 ( ) / 10 ) ; comment var40 ( var31 , var78 ( ) / 10 ) ; const uint8_t var79 = var80 ( ) ; var37 ( var31 , ( var81 ( ) > > 16 ) ) ; var37 ( var31 , ( var81 ( ) > > 8 ) ) ; var37 ( var31 , ( uint8_t ) var81 ( ) ) ; var37 ( var31 , var79 ) ; } typedef enum { var82 = 0 , var83 = 1 } var84 ; typedef enum { var85 = 0 , var86 = 1 , var87 = 2 } var88 ; typedef enum { var89 = 0 , var90 = 1 , var91 = 2 , var92 = 3 , var93 = 4 , var94 = 5 , var95 = 6 } var96 ; comment preproc preproc preproc static void var97 ( var30 * var31 ) { var35 ( var31 , var98 + var56 ) ; var37 ( var31 , var99 ) ; var40 ( var31 , var100 ( var101 . var102 . var103 ) ) ; var40 ( var31 , var100 ( var101 . var102 . var104 ) ) ; var40 ( var31 , var100 ( var101 . var102 . var105 ) ) ; } comment static void var106 ( var30 * var31 ) { comment comment uint8_t * var107 = var48 ( var31 ) ; var35 ( var31 , 0 ) ; var37 ( var31 , var108 ) ; comment const char * var109 = stringl stringl stringl ; if ( var110 ( var111 ) ) { if ( var112 ( var113 ) ) { var109 = stringl stringl stringl ; } else { var109 = stringl stringl stringl ; } if ( var114 ( var115 ) ) { var109 = stringl stringl stringl ; } else if ( var110 ( var111 ) & & var116 ( var117 ) & & ! var114 ( var118 ) & & ! var114 ( var119 ) ) { var109 = stringl stringl stringl ; } else if ( var114 ( var120 ) ) { var109 = stringl stringl stringl ; } else if ( var114 ( var118 ) ) { var109 = stringl stringl stringl ; } else if ( var114 ( var121 ) ) { var109 = stringl stringl stringl ; } else if ( var114 ( var122 ) & & var114 ( var123 ) ) { var109 = stringl stringl stringl ; } else if ( var114 ( var122 ) ) { var109 = stringl stringl stringl ; } else if ( var114 ( var123 ) ) { var109 = stringl stringl stringl ; } else if ( var114 ( var119 ) ) { var109 = stringl stringl stringl ; } else if ( var114 ( var124 ) ) { var109 = stringl stringl stringl ; } else if ( var114 ( var125 ) ) { var109 = stringl stringl stringl ; } preproc preproc preproc } else if ( var126 ( var127 ) & & var128 ( ) - > var129 . var130 . var131 & & ( ! var112 ( var132 ) | | ! var112 ( var133 ) ) ) { var109 = stringl stringl stringl ; comment preproc preproc preproc } else if ( var134 ( ) ) { var109 = stringl stringl stringl ; } var42 ( var31 , ( const uint8_t * ) var109 , var135 ( var109 ) ) ; var37 ( var31 , 0 ) ; comment comment * var107 = var48 ( var31 ) - var107 ; } comment static void var136 ( var30 * var31 ) { char var137 [ 30 ] ; var138 ( var137 , stringl stringl stringl , var139 , var140 , var141 ) ; uint8_t * var107 = var48 ( var31 ) ; var35 ( var31 , 0 ) ; var37 ( var31 , var142 ) ; var37 ( var31 , var143 ) ; var37 ( var31 , var144 ) ; var42 ( var31 , ( const uint8_t * ) var137 , var135 ( var137 ) ) ; var37 ( var31 , 0 ) ; comment for ( unsigned int var44 = 0 ; var44 < 12 ; var44 + + ) { var37 ( var31 , intl ) ; } var37 ( var31 , var145 ) ; var37 ( var31 , var146 ) ; * var107 = var48 ( var31 ) - var107 ; } preproc preproc comment comment typedef enum { var147 = 0 , var148 = var147 , var149 , var150 , var151 , var152 , var153 } var154 ; static uint8_t var155 ; static uint8_t var156 [ var153 ] ; preproc preproc preproc static bool var157 ; void var158 ( void ) { var157 = true ; } void var159 ( uint8_t * var160 ) { var30 var161 ; var30 * var31 = & var161 ; var29 ( var31 ) ; var35 ( var31 , var162 + var163 ) ; var37 ( var31 , var164 ) ; var37 ( var31 , var143 ) ; var37 ( var31 , var144 ) ; var42 ( var31 , ( const uint8_t * ) var160 , var162 ) ; var45 ( var31 ) ; } preproc preproc preproc static void var165 ( void ) { static uint8_t var166 = 0 ; const uint8_t var167 = var156 [ var166 ] ; var30 var161 ; var30 * var31 = & var161 ; if ( var167 & var168 ( var148 ) ) { var29 ( var31 ) ; var97 ( var31 ) ; var45 ( var31 ) ; } if ( var167 & var168 ( var149 ) ) { var29 ( var31 ) ; var74 ( var31 ) ; var45 ( var31 ) ; } if ( var167 & var168 ( var150 ) ) { var29 ( var31 ) ; var106 ( var31 ) ; var45 ( var31 ) ; } preproc preproc preproc if ( var167 & var168 ( var151 ) ) { var29 ( var31 ) ; var54 ( var31 ) ; var45 ( var31 ) ; } xxwrep 6 preproc if ( var167 & var168 ( var152 ) ) { var29 ( var31 ) ; var69 ( var31 ) ; var45 ( var31 ) ; } preproc preproc preproc var166 = ( var166 + 1 ) % var155 ; } void var169 ( void ) { var2 = true ; } void var170 ( void ) { comment comment var1 = var171 ( ) ; var2 = false ; preproc preproc preproc var157 = false ; preproc preproc preproc int var172 = 0 ; var156 [ var172 + + ] = var168 ( var148 ) ; var156 [ var172 + + ] = var168 ( var149 ) ; var156 [ var172 + + ] = var168 ( var150 ) ; preproc preproc preproc if ( var126 ( var127 ) ) { var156 [ var172 + + ] = var168 ( var151 ) ; } xxwrep 6 preproc if ( var173 ( var174 ) | | ( var112 ( var175 ) & & var126 ( var127 ) ) ) { var156 [ var172 + + ] = var168 ( var152 ) ; } preproc preproc preproc var155 = ( uint8_t ) var172 ; } bool var176 ( void ) { return var1 ; } comment void var177 ( var178 var179 ) { static uint32_t var180 ; if ( ! var1 ) { return ; } comment comment comment var181 ( ) ; comment preproc preproc preproc if ( var157 ) { var157 = var18 ( var162 , & var159 ) ; var180 = var179 ; comment return ; } preproc preproc preproc if ( var2 ) { var30 var161 ; var30 * var31 = & var161 ; var29 ( var31 ) ; var136 ( var31 ) ; var45 ( var31 ) ; var2 = false ; var180 = var179 ; comment return ; } comment comment if ( var179 > = var180 + ( var182 / var155 ) ) { var180 = var179 ; var165 ( ) ; } } int var183 ( uint8_t * var51 , var184 var185 ) { var30 var186 ; var30 * var187 = & var186 ; var29 ( var187 ) ; switch ( var185 ) { default : case var99 : var97 ( var187 ) ; break ; case var76 : var74 ( var187 ) ; break ; case var108 : var106 ( var187 ) ; break ; preproc preproc preproc case var57 : var54 ( var187 ) ; break ; preproc preproc preproc case var71 : var69 ( var187 ) ; break ; } const int var52 = var50 ( var187 , var51 ) ; return var52 ; } preproc preproc preproc,xxbos comment xxwrep 27 preproc comment void var0 ( void ) { var1 ( ) - > var2 = 4 ; } preproc preproc preproc\n",
       "y: LMLabelList\n",
       ",,,,\n",
       "Path: /home/jesko/.fastai/data/c;\n",
       "\n",
       "Valid: LabelList (1879 items)\n",
       "x: LMTextList\n",
       "xxbos comment preproc preproc preproc comment xxwrep 28 preproc comment preproc preproc preproc xxwrep 6 comment xxwrep 11 preproc comment comment comment xxwrep 88 preproc xxwrep 6 comment var0 var1 ( var2 * var3 ) { var0 var4 = var5 ; comment var6 ( var7 ( var3 ) ) ; preproc preproc preproc if ( var3 = = var8 ) { comment var9 ( var10 ) ; comment var11 ( var10 ) ; var4 = var12 ; } preproc preproc comment xxwrep 4 preproc if ( var3 = = var13 ) { comment var14 ( var15 ) ; comment var16 ( var15 ) ; var4 = var12 ; } preproc preproc comment xxwrep 4 preproc if ( var3 = = var17 ) { comment var14 ( var18 ) ; comment var16 ( var18 ) ; var4 = var12 ; } preproc preproc comment xxwrep 4 preproc if ( var3 = = var19 ) { comment var9 ( var20 ) ; comment var11 ( var20 ) ; var4 = var12 ; } preproc preproc comment preproc return var4 ; } comment var0 var21 ( var2 * var3 , var22 * var23 ) { var0 var4 = var5 ; comment var6 ( var7 ( var3 ) ) ; comment var6 ( var24 ( var23 - > var25 ) ) ; var6 ( var26 ( var23 - > var27 ) ) ; var6 ( var28 ( var23 - > var29 ) ) ; var6 ( var30 ( var23 - > var31 ) ) ; var6 ( var32 ( var23 - > var33 ) ) ; var6 ( var34 ( var23 - > var35 ) ) ; var6 ( var36 ( var23 - > var37 ) ) ; var6 ( var38 ( var23 - > var39 ) ) ; var6 ( var40 ( var23 - > var41 ) ) ; if ( var42 ( var3 ) = = intl ) { comment var43 ( var3 - > var44 , var45 , var23 - > var25 | var23 - > var27 | var23 - > var31 | var23 - > var33 | var23 - > var35 | var23 - > var37 | var23 - > var39 | var23 - > var41 ) ; comment var43 ( var3 - > var46 , var47 | var48 , var23 - > var29 | ( var23 - > var35 > > intl ) ) ; comment if ( var23 - > var41 = = var49 ) { var6 ( var50 ( var23 - > var51 ) ) ; var52 ( var3 , var23 - > var51 ) ; } var4 = var12 ; } preproc preproc preproc comment var53 ( var3 - > var54 , var55 ) ; preproc preproc comment preproc return var4 ; } comment void var56 ( var22 * var23 ) { comment var23 - > var25 = var57 ; var23 - > var27 = var58 ; var23 - > var29 = var59 ; var23 - > var31 = var60 ; var23 - > var33 = var61 ; var23 - > var35 = var62 ; var23 - > var37 = var63 ; var23 - > var39 = var64 ; var23 - > var41 = var65 ; var23 - > var51 = intl ; } comment comment comment preproc preproc preproc xxwrep 6 comment xxwrep 10 preproc comment comment comment xxwrep 54 preproc xxwrep 6 comment var0 var66 ( var2 * var3 ) { return var1 ( var3 ) ; } comment var0 var67 ( var2 * var3 , var68 * var69 ) { uint16_t var70 = intl , var71 = intl , var72 = intl ; uint32_t var73 = intl ; var74 var75 ; uint32_t var76 = intl ; var0 var4 = var5 ; comment var6 ( var77 ( var3 ) ) ; var6 ( var78 ( var69 - > var27 ) ) ; var6 ( var79 ( var69 - > var80 ) ) ; var6 ( var81 ( var69 - > var82 ) ) ; var6 ( var83 ( var69 - > var84 ) ) ; var6 ( var85 ( var69 - > var86 ) ) ; var6 ( var87 ( var69 - > var31 ) ) ; if ( var88 ( var3 ) = = intl ) { comment comment var43 ( var3 - > var54 , var89 , var69 - > var27 | var69 - > var80 | var69 - > var82 | var69 - > var31 | var55 ) ; comment comment if ( var69 - > var86 ! = var90 ) { comment if ( var69 - > var82 ! = var91 ) { comment var72 = intl ; } comment var92 ( & var75 ) ; comment var76 = var75 . var93 ; comment if ( var69 - > var84 = = var94 ) { comment var73 = ( uint16_t ) ( ( ( ( ( var76 / intl ) * intl ) / var69 - > var86 ) ) + intl ) ; } else { comment var73 = ( uint16_t ) ( ( ( ( ( var76 / ( intl * var72 ) ) * intl ) / var69 - > var86 ) ) + intl ) ; } comment var73 = var73 / intl ; comment var71 = ( uint16_t ) ( var73 & ( uint16_t ) intl ) ; comment var70 = ( uint16_t ) ( ( var73 - var71 ) / intl ) ; comment var71 = ( uint16_t ) ( var71 < < intl ) ; } comment if ( ( var70 < intl ) | | ( var70 > intl ) ) { comment var70 = intl ; var71 = intl ; } comment var95 ( var3 - > var96 , var70 | var71 | var69 - > var84 ) ; var4 = var12 ; } return var4 ; } comment void var97 ( var68 * var69 ) { comment var69 - > var27 = var98 ; var69 - > var80 = var99 ; var69 - > var82 = var91 ; var69 - > var84 = var100 ; var69 - > var86 = var90 ; var69 - > var31 = var101 ; } comment void var102 ( var2 * var3 , uint32_t var103 , uint32_t var104 ) { comment var6 ( var77 ( var3 ) ) ; var6 ( var105 ( var103 ) ) ; var6 ( var106 ( var104 ) ) ; comment var43 ( var3 - > var96 , var107 | var108 , var103 | ( var104 < < intl ) ) ; } preproc preproc preproc comment var0 var109 ( var2 * var110 , var68 * var69 ) { uint16_t var111 = intl ; var0 var4 = var5 ; comment var6 ( var112 ( var110 ) ) ; var6 ( var78 ( var69 - > var27 ) ) ; var6 ( var79 ( var69 - > var80 ) ) ; var6 ( var81 ( var69 - > var82 ) ) ; var6 ( var87 ( var69 - > var31 ) ) ; if ( var88 ( var110 ) = = intl ) { comment comment var95 ( var110 - > var96 , var113 ) ; comment if ( ( var69 - > var27 = = var114 ) | | ( var69 - > var27 = = var98 ) ) { var111 = var115 ; } else { if ( ( var69 - > var27 = = var116 ) | | ( var69 - > var27 = = var115 ) ) { var111 = var98 ; } } comment var43 ( var110 - > var54 , var89 , var69 - > var80 | var69 - > var82 | var69 - > var31 | var55 | var111 ) ; var4 = var12 ; } return var4 ; } preproc preproc comment preproc comment comment comment preproc preproc comment preproc preproc preproc comment preproc comment preproc preproc comment preproc comment,xxbos xxwrep 12 preproc const char * var0 ( int var1 ) { switch ( var1 ) { case var2 : return stringl stringl stringl ; case var3 : return stringl stringl stringl ; case var4 : return stringl stringl stringl ; case var5 : return stringl stringl stringl ; case var6 : return stringl stringl stringl ; case var7 : return stringl stringl stringl ; case var8 : return stringl stringl stringl ; case var9 : return stringl stringl stringl ; case var10 : return stringl stringl stringl ; case var11 : return stringl stringl stringl ; case var12 : return stringl stringl stringl ; case var13 : return stringl stringl stringl ; case var14 : return stringl stringl stringl ; case var15 : return stringl stringl stringl ; case var16 : return stringl stringl stringl ; case var17 : return stringl stringl stringl ; case var18 : return stringl stringl stringl ; case var19 : return stringl stringl stringl ; case var20 : return stringl stringl stringl ; case var21 : return stringl stringl stringl ; case var22 : return stringl stringl stringl ; case var23 : return stringl stringl stringl ; case var24 : return stringl stringl stringl ; case var25 : return stringl stringl stringl ; case var26 : return stringl stringl stringl ; case var27 : return stringl stringl stringl ; case var28 : return stringl stringl stringl ; case var29 : return stringl stringl stringl ; case var30 : return stringl stringl stringl ; case var31 : return stringl stringl stringl ; case var32 : return stringl stringl stringl ; case var33 : return stringl stringl stringl ; case var34 : return stringl stringl stringl ; case var35 : return stringl stringl stringl ; case var36 : return stringl stringl stringl ; case var37 : return stringl stringl stringl ; case var38 : return stringl stringl stringl ; case var39 : return stringl stringl stringl ; case var40 : return stringl stringl stringl ; case var41 : return stringl stringl stringl ; case var42 : return stringl stringl stringl ; case var43 : return stringl stringl stringl ; case var44 : return stringl stringl stringl ; case var45 : return stringl stringl stringl ; case var46 : return stringl stringl stringl ; case var47 : return stringl stringl stringl ; case var48 : return stringl stringl stringl ; case var49 : return stringl stringl stringl ; case var50 : return stringl stringl stringl ; case var51 : return stringl stringl stringl ; case var52 : return stringl stringl stringl ; case var53 : return stringl stringl stringl ; case var54 : return stringl stringl stringl ; case var55 : return stringl stringl stringl ; case var56 : return stringl stringl stringl ; case var57 : return stringl stringl stringl ; default : return stringl stringl stringl ; } } comment comment comment static const var58 var59 [ ] = { { intl , intl , intl , var60 , stringl stringl stringl } , } ; static const var61 var62 = { var59 , 1 } ; comment static const var58 var63 [ ] = { { intl , intl , intl , var60 , stringl stringl stringl } , { intl , intl , intl , var60 , stringl stringl stringl } } ; static const var61 var64 = { var63 , 2 } ; comment static const var58 var65 [ ] = { { intl , intl , intl , var60 , stringl stringl stringl } } ; static const var61 var66 = { var65 , 1 } ; comment comment comment static const var58 var67 [ ] = { { intl , intl , intl , var68 , stringl stringl stringl } , { intl , intl , intl , var60 , stringl stringl stringl } , { intl , intl , intl , var69 , stringl stringl stringl } , { intl , intl , intl , var69 , stringl stringl stringl } , { intl , intl , intl , var69 , stringl stringl stringl } , { intl , intl , intl , var70 , stringl stringl stringl } , { intl , intl , intl , var71 , stringl stringl stringl } } ; static const var61 var72 = { var67 , 7 } ; comment comment static const var58 var73 [ ] = { { intl , intl , intl , var60 , stringl stringl stringl } } ; static const var61 var74 = { var73 , 1 } ; comment comment static const var58 var75 [ ] = { { intl , intl , intl , var60 , stringl stringl stringl } , { intl , intl , intl , var60 , stringl stringl stringl } , { intl , intl , intl , var60 , stringl stringl stringl } , { intl , intl , intl , var68 , stringl stringl stringl } , { intl , intl , intl , var68 , stringl stringl stringl } , { intl , intl , intl , var68 , stringl stringl stringl } , { intl , intl , intl , var68 , stringl stringl stringl } } ; static const var61 var76 = { var75 , 7 } ; comment static const var58 var77 [ ] = { { intl , intl , intl , var60 , stringl stringl stringl } } ; static const var61 var78 = { var77 , 1 } ; comment static const var58 var79 [ ] = { { intl , intl , intl , var68 , stringl stringl stringl } , { intl , intl , intl , var71 , stringl stringl stringl } , { intl , intl , intl , var71 , stringl stringl stringl } , comment { intl , intl , intl , var71 , stringl stringl stringl } , comment { intl , intl , intl , var80 , stringl stringl stringl } , { intl , intl , intl , var80 , stringl stringl stringl } , { intl , intl , intl , var80 , stringl stringl stringl } , { intl , intl , intl , var70 , stringl stringl stringl } , { intl , intl , intl , var60 , stringl stringl stringl } , { intl , intl , intl , var60 , stringl stringl stringl } , { intl , intl , intl , var69 , stringl stringl stringl } , { intl , intl , intl , var80 , stringl stringl stringl } , { intl , intl , intl , var71 , stringl stringl stringl } , { intl , intl , intl , var68 , stringl stringl stringl } , { intl , intl , intl , var60 , stringl stringl stringl } , { intl , intl , intl , var68 , stringl stringl stringl } , comment { intl , intl , intl , var60 , stringl stringl stringl } } ; static const var61 var81 = { var79 , 16 } ; static const var61 var82 = { var79 , 17 } ; comment static const var58 var83 [ ] = { { intl , intl , intl , var70 , stringl stringl stringl } , { intl , intl , intl , var60 , stringl stringl stringl } } ; static const var61 var84 = { var83 , 2 } ; comment comment static const var58 var85 [ ] = { { intl , intl , intl , var60 , stringl stringl stringl } } ; static const var61 var86 = { var85 , 1 } ; comment comment static const var58 var87 [ ] = { { intl , intl , intl , var80 , stringl stringl stringl } , { intl , intl , intl , var88 , stringl stringl } , { intl , intl , intl , var60 , stringl stringl stringl } , { intl , intl , intl , var88 , stringl stringl } , { intl , intl , intl , var60 , stringl stringl stringl } , { intl , intl , intl , var88 , stringl stringl } , { intl , intl , intl , var60 , stringl stringl stringl } , { intl , intl , intl , var80 , stringl stringl stringl } , { intl , intl , intl , var60 , stringl stringl stringl } , } ; static const var61 var89 = { var87 , 9 } ; comment comment static const var58 var90 [ ] = { { intl , intl , intl , var60 , stringl stringl stringl } } ; static const var61 var91 = { var90 , 1 } ; comment comment static const var58 var92 [ ] = { { intl , intl , intl , var60 , stringl stringl stringl } , { intl , intl , intl , var70 , stringl stringl stringl } } ; static const var61 var93 = { var92 , 2 } ; comment comment static const var58 var94 [ ] = { comment { intl , intl , intl , var60 , stringl stringl stringl } } ; static const var61 var95 = { var94 , 1 } ; comment comment static const var58 var96 [ ] = { { intl , intl , intl , var60 , stringl stringl stringl } , { intl , intl , intl , var69 , stringl stringl stringl } , comment { intl , intl , intl , var69 , stringl stringl stringl } , comment { intl , intl , intl , var69 , stringl stringl stringl } , comment { intl , intl , intl , var68 , stringl stringl stringl } , { intl , intl , intl , var69 , stringl stringl stringl } , comment { intl , intl , intl , var68 , stringl stringl stringl } , { intl , intl , intl , var68 , stringl stringl stringl } , { intl , intl , intl , var71 , stringl stringl stringl } , comment { intl , intl , intl , var70 , stringl stringl stringl } , { intl , intl , intl , var71 , stringl stringl stringl } , } ; static const var61 var97 = { var96 , 11 } ; comment comment static const var58 var98 [ ] = { { intl , intl , intl , var60 , stringl stringl stringl } , comment { intl , intl , intl , var60 , stringl stringl stringl } , comment { intl , intl , intl , var60 , stringl stringl stringl } comment } ; static const var61 var99 = { var98 , 3 } ; comment comment static const var58 var100 [ ] = { { intl , intl , intl , var60 , stringl stringl stringl } } ; static const var61 var101 = { var100 , 1 } ; comment static const var58 var102 [ ] = { comment { intl , intl , intl , var60 , stringl stringl stringl } } ; static const var61 var103 = { var102 , 1 } ; comment static const var58 var104 [ ] = { { intl , intl , intl , var60 , stringl stringl stringl } , { intl , intl , intl , var80 , stringl stringl stringl } comment } ; static const var61 var105 = { var104 , 2 } ; comment static const var58 var106 [ ] = { { intl , intl , intl , var60 , stringl stringl stringl } , { intl , intl , intl , var60 , stringl stringl stringl } , { intl , intl , intl , var60 , stringl stringl stringl } , { intl , intl , intl , var70 , stringl stringl stringl } } ; static const var61 var107 = { var106 , 4 } ; comment comment static const var58 var108 [ ] = { { intl , intl , intl , var60 , stringl stringl stringl } , { intl , intl , intl , var60 , stringl stringl stringl } } ; static const var61 var109 = { var108 , 2 } ; comment comment static const var58 var110 [ ] = { { intl , intl , intl , var60 , stringl stringl stringl } , { intl , intl , intl , var60 , stringl stringl stringl } } ; static const var61 var111 = { var110 , 2 } ; comment static const var58 var112 [ ] = { { intl , intl , intl , var60 , stringl stringl stringl } , { intl , intl , intl , var70 , stringl stringl stringl } comment } ; static const var61 var113 = { var112 , 2 } ; comment comment static const var58 var114 [ ] = { { intl , intl , intl , var60 , stringl stringl stringl } , { intl , intl , intl , var70 , stringl stringl stringl } } ; static const var61 var115 = { var114 , 2 } ; comment comment static const var58 var116 [ ] = { { intl , intl , intl , var60 , stringl stringl stringl } comment } ; static const var61 var117 = { var116 , 1 } ; comment static const var58 var118 [ ] = { { intl , intl , intl , var71 , stringl stringl stringl } , { intl , intl , intl , var88 , stringl stringl } , { intl , intl , intl , var80 , stringl stringl stringl } , { intl , intl , intl , var88 , stringl stringl } , { intl , intl , intl , var71 , stringl stringl stringl } , { intl , intl , intl , var70 , stringl stringl stringl } , { intl , intl , intl , var60 , stringl stringl stringl } } ; static const var61 var119 = { var118 , 7 } ; comment comment static const var58 var120 [ ] = { { intl , intl , intl , var60 , stringl stringl stringl } , { intl , intl , intl , var70 , stringl stringl stringl } } ; static const var61 var121 = { var120 , 2 } ; comment comment static const var58 var122 [ ] = { comment { intl , intl , intl , var60 , stringl stringl stringl } } ; static const var61 var123 = { var122 , 1 } ; comment comment static const var58 var124 [ ] = { { intl , intl , intl , var60 , stringl stringl stringl } } ; static const var61 var125 = { var124 , 1 } ; comment static const var58 var126 [ ] = { { intl , intl , intl , var60 , stringl stringl stringl } , { intl , intl , intl , var70 , stringl stringl stringl } } ; static const var61 var127 = { var126 , 2 } ; comment static const var61 var128 = { 0 , 0 } ; const var61 * var129 ( int var1 ) { switch ( var1 ) { case var2 : return & var62 ; case var6 : return & var64 ; case var8 : return & var66 ; case var10 : return & var72 ; case var11 : return & var74 ; case var12 : return & var76 ; case var15 : return & var78 ; case var19 : return & var81 ; case var21 : return & var82 ; case var20 : return & var84 ; case var23 : return & var86 ; case var25 : return & var89 ; case var26 : return & var91 ; case var27 : case var43 : comment return & var93 ; case var33 : return & var95 ; case var30 : return & var97 ; case var31 : return & var99 ; case var32 : return & var101 ; case var34 : return & var103 ; case var35 : return & var105 ; case var38 : return & var107 ; case var39 : return & var109 ; case var42 : return & var111 ; case var45 : return & var115 ; case var44 : return & var113 ; case var46 : return & var117 ; case var48 : return & var119 ; case var47 : return & var121 ; case var49 : return & var123 ; case var50 : return & var125 ; case var52 : return & var127 ; default : return & var128 ; } },xxbos comment xxwrep 8 preproc void var0 ( void ) ; void var1 ( void ) ; preproc preproc preproc static int var2 = - 1 ; static var3 var4 = - 1 ; static var3 var5 = - 1 ; comment static int var6 = - 1 ; static int var7 = - 1 ; static int var8 = - 1 ; static int var9 = - 1 ; static int var10 = - 1 ; static int var11 = - 1 ; static int var12 = - 1 ; static int var13 = - 1 ; static int var14 = - 1 ; static int var15 = - 1 ; static int var16 = - 1 ; static int var17 = - 1 ; static var18 var19 ; xxwrep 18 preproc static const var20 var21 [ ] = { { var22 , stringl stringl stringl } , { var23 , stringl stringl stringl } , { var24 , stringl stringl stringl } , { var25 , stringl stringl stringl } , { var26 , stringl stringl stringl } , { var27 , stringl stringl stringl } , { intl , xxup null } } ; xxwrep 6 preproc static const var20 var28 [ ] = { { var29 , stringl stringl stringl } , { intl , stringl stringl stringl } , { var30 , stringl stringl stringl } , comment { intl , stringl stringl stringl } , { intl , stringl stringl stringl } , { intl , stringl stringl stringl } , { intl , stringl stringl stringl } , { intl , stringl stringl stringl } , { intl , stringl stringl stringl } , comment { intl , stringl stringl stringl } , { intl , stringl stringl stringl } , { intl , stringl stringl stringl } , { intl , stringl stringl stringl } , { intl , stringl stringl stringl } , { intl , stringl stringl stringl } , { intl , stringl stringl stringl } , { intl , stringl stringl stringl } , { intl , xxup null } } ; static const var31 var32 = { stringl stringl stringl , stringl stringl stringl } ; static const var31 var33 = { stringl stringl stringl , stringl stringl stringl } ; static int var34 ( var35 * var36 , var37 * var38 , var39 * var40 , void * var41 var42 ) { var39 * var43 = xxup null , * var44 ; var45 * var46 ; var35 * var47 ; var48 var49 ; var50 var51 , var52 = 0 ; var48 var53 , var54 , var55 = 0 ; var56 var57 = 0 , var58 = 0 ; comment var51 = var59 ( var36 , 0 ) ; if ( var51 = = var27 ) { comment var52 = var59 ( var36 , 1 ) ; var57 = ( var52 > > 6 ) & 1 ; var58 = ( var52 > > 7 ) ; var52 & = intl ; comment if ( var52 = = var30 ) { var49 = var60 ( var36 , 8 ) ; var53 = 18 ; var54 = var61 ( var36 , 16 ) ; } else { var49 = var60 ( var36 , 2 ) ; var53 = 12 ; var54 = var61 ( var36 , 10 ) ; } } else { comment var49 = var60 ( var36 , 5 ) ; if ( var51 = = var22 ) { var53 = 10 ; var54 = var59 ( var36 , 9 ) ; } else { var53 = 26 ; var54 = var59 ( var36 , 25 ) ; } } comment if ( var51 = = var27 ) { var62 ( var38 - > var63 , var64 , stringl stringl stringl ) ; } else { var62 ( var38 - > var63 , var64 , stringl stringl stringl ) ; } var65 ( var38 - > var63 , var66 , stringl stringl stringl , var49 ) ; if ( var51 = = var27 ) { var67 ( var38 - > var63 , var66 , stringl stringl stringl , var68 ( var52 , var28 , stringl stringl stringl ) ) ; } if ( var40 ) { var55 = 0 ; var46 = var69 ( var40 , var2 , var36 , 0 , - 1 , stringl stringl stringl , var51 = = var27 ? stringl stringl stringl : stringl stringl stringl , var49 ) ; var43 = var70 ( var46 , var4 ) ; var71 ( var43 , var7 , var36 , var55 , 1 , var72 ) ; var55 + + ; if ( var51 = = var27 ) { comment var44 = var73 ( var43 , var36 , var55 , 1 , var5 , xxup null , stringl stringl stringl , var68 ( var52 , var28 , stringl stringl stringl ) , var52 , var58 ? stringl stringl : stringl stringl stringl , var57 ? stringl stringl : stringl stringl stringl ) ; var71 ( var44 , var10 , var36 , var55 , 1 , var72 ) ; var71 ( var44 , var9 , var36 , var55 , 1 , var72 ) ; var71 ( var44 , var8 , var36 , var55 , 1 , var72 ) ; var55 + + ; if ( var52 = = var30 ) { var71 ( var43 , var11 , var36 , var55 , 4 , var74 ) ; var55 + = 4 ; var71 ( var43 , var12 , var36 , var55 , 2 , var74 ) ; var55 + = 2 ; } var71 ( var43 , var6 , var36 , var55 , 4 , var72 ) ; var55 + = 4 ; var71 ( var43 , var13 , var36 , var55 , 4 , var72 ) ; var55 + = 4 ; var71 ( var43 , var16 , var36 , var55 , 2 , var72 ) ; var55 + = 2 ; } else { comment var71 ( var43 , var13 , var36 , var55 , 4 , var72 ) ; var55 + = 4 ; var71 ( var43 , var6 , var36 , var55 , 4 , var72 ) ; var55 + = 4 ; if ( var51 ! = var22 ) { var71 ( var43 , var14 , var36 , var55 , 16 , var74 ) ; var55 + = 16 ; } var71 ( var43 , var15 , var36 , var55 , 1 , var72 ) ; var55 + + ; } } comment var47 = var75 ( var36 , var53 , var54 , - 1 ) ; if ( var58 ) { comment var76 ( var47 , var38 , var40 ) ; } else if ( var51 ! = var27 | | var52 = = var29 ) { comment var77 ( var19 , var47 , var38 , var40 ) ; } else { comment var76 ( var47 , var38 , var40 ) ; } if ( var40 ) { comment var55 + = var54 ; comment if ( var55 < var78 ( var36 ) ) { var71 ( var43 , var17 , var36 , var55 , - 1 , var74 ) ; } } return var78 ( var36 ) ; } void var0 ( void ) { static var79 var80 [ ] = { { & var7 , { stringl stringl stringl , stringl stringl stringl , var81 , var82 , var83 ( var21 ) , 0 , xxup null , var84 } } , { & var8 , { stringl stringl stringl , stringl stringl stringl , var81 , var82 , var83 ( var28 ) , intl , xxup null , var84 } } , { & var9 , { stringl stringl stringl , stringl stringl stringl , var85 , 8 , var86 ( & var32 ) , intl , xxup null , var84 } } , { & var10 , { stringl stringl stringl , stringl stringl stringl , var85 , 8 , var86 ( & var33 ) , intl , xxup null , var84 } } , { & var11 , { stringl stringl stringl , stringl stringl stringl , var87 , var88 , xxup null , 0 , xxup null , var84 } } , { & var12 , { stringl stringl stringl , stringl stringl stringl , var87 , var88 , xxup null , 0 , xxup null , var84 } } , { & var13 , { stringl stringl stringl , stringl stringl stringl , var89 , var82 , xxup null , 0 , xxup null , var84 } } , { & var6 , { stringl stringl stringl , stringl stringl stringl , var89 , var82 , xxup null , 0 , xxup null , var84 } } , { & var14 , { stringl stringl stringl , stringl stringl stringl , var87 , var88 , xxup null , 0 , xxup null , var84 } } , { & var15 , { stringl stringl stringl , stringl stringl stringl , var81 , var90 , xxup null , 0 , xxup null , var84 } } , { & var16 , { stringl stringl stringl , stringl stringl stringl , var91 , var90 , xxup null , 0 , xxup null , var84 } } , { & var17 , { stringl stringl stringl , stringl stringl stringl , var87 , var88 , xxup null , 0 , xxup null , var84 } } , } ; static var3 * var92 [ ] = { & var4 , & var5 } ; var2 = var93 ( stringl stringl stringl , stringl stringl stringl , stringl stringl stringl ) ; var94 ( var2 , var80 , var95 ( var80 ) ) ; var96 ( var92 , var95 ( var92 ) ) ; } void var1 ( void ) { var18 var97 ; var97 = var98 ( var34 , var2 ) ; var99 ( stringl stringl stringl , var100 , var97 ) ; var19 = var101 ( stringl stringl stringl , var2 ) ; } comment,xxbos comment xxwrep 8 preproc comment float var0 ( float var1 ) { float var2 , var3 , var4 ; int var5 ; union { float var6 ; int var7 ; } var8 ; var1 = floatl * var1 ; var2 = var9 ( var1 ) ; var4 = var2 + floatl ; comment var8 . var6 = var4 ; var5 = intl - ( var8 . var7 & intl ) ; var8 . var7 = var8 . var7 + var5 ; var8 . var6 = floatl - floatl * var8 . var6 ; var8 . var7 = var8 . var7 + var5 ; var3 = floatl - var8 . var6 * var4 ; var8 . var6 = var8 . var6 * var3 ; var3 = floatl - var8 . var6 * var4 ; var8 . var6 = var8 . var6 * var3 ; var4 = var2 - floatl ; var8 . var6 * = var4 ; return var8 . var6 ; } float var10 ( float var1 ) { preproc preproc preproc asm volatile ( xxwrep 5 stringl ) ; var11 ( var1 ) ; asm volatile ( xxwrep 20 stringl comment xxwrep 5 stringl comment xxwrep 5 stringl comment xxwrep 5 stringl comment xxwrep 5 stringl comment xxwrep 5 stringl comment : : : stringl stringl stringl , stringl stringl stringl , stringl stringl stringl , stringl stringl stringl ) ; preproc preproc preproc } float var12 ( float var1 ) { preproc preproc preproc asm volatile ( xxwrep 5 stringl ) ; var10 ( var1 ) ; asm volatile ( xxwrep 5 stringl ) ; preproc preproc preproc return var0 ( var1 ) ; preproc preproc preproc } ;,xxbos comment xxwrep 32 preproc comment xxwrep 5 preproc comment xxwrep 7 preproc typedef enum var0 { var1 = 0 , var2 , var3 } var0 ; comment typedef struct var4 { unsigned int var5 ; unsigned int var6 ; uint64_t var7 ; comment uint32_t var8 ; comment uint32_t var9 ; comment int64_t var10 ; } var4 ; typedef struct var11 { var4 * var12 ; var4 var13 ; var14 * var15 ; uint64_t var16 ; comment char var17 [ var18 + 1 ] ; var0 var19 ; } var11 ; typedef struct var20 { var21 * var22 [ var23 ] ; char var24 [ var18 + var25 ] ; int64_t var7 ; comment var4 var12 ; } var20 ; comment var26 var27 ( var28 * ) ; comment static var26 var29 ( var28 * var30 ) { var20 * var31 = var30 - > var32 - > var31 ; unsigned int var33 , var34 = var35 ( var30 , var31 - > var24 , sizeof ( var31 - > var24 ) - 1 ) ; if ( ! var34 ) return var36 ; comment for ( var33 = 0 ; var33 < var34 ; var33 + + ) if ( var31 - > var24 [ var33 ] = = charl charl charl ) break ; comment if ( var33 = = sizeof ( var31 - > var24 ) - 1 ) { var37 ( var30 , stringl stringl stringl ) ; return var38 ; } if ( var33 < var34 ) { var31 - > var24 [ var33 + + ] = 0 ; if ( var33 < var34 & & var31 - > var24 [ var33 ] = = charl charl charl ) var33 + + ; } var31 - > var24 [ var33 ] = 0 ; comment var39 ( var30 , var33 ) ; return var40 ; } static var26 var41 ( var28 * var30 ) { var20 * var31 = var30 - > var32 - > var31 ; var21 * var42 = xxup null ; var43 var44 ; int var45 , var46 , var47 , var48 , var49 , var50 , var51 , var52 ; unsigned int var53 = 1 ; comment if ( var29 ( var30 ) ! = var40 ) return var38 ; while ( var53 + + < var54 & & var29 ( var30 ) = = var40 ) { comment if ( ! var55 ( var31 - > var24 , var56 , sizeof ( var57 ) - 1 ) ) { if ( var42 ) var30 - > var22 [ var30 - > var58 + + ] = var42 ; return var40 ; } comment if ( ! var55 ( var31 - > var24 , stringl stringl stringl , sizeof ( stringl stringl stringl ) - 1 ) ) { comment if ( var42 ) var30 - > var22 [ var30 - > var58 + + ] = var42 ; var42 = xxup null ; if ( var30 - > var58 > = var23 ) { var37 ( var30 , stringl stringl stringl , var31 - > var24 ) ; continue ; } var42 = var59 ( var30 , sizeof ( * var42 - > var32 - > var31 ) ) ; if ( ! var42 ) return var60 ; var42 - > var61 = true ; var42 - > var62 - > var6 | = var63 ; if ( ( var45 = var64 ( var31 - > var24 , stringl stringl stringl , ( char * ) & var44 , & var46 , & var47 ) ) > 0 ) { var42 - > var62 - > var65 = var66 ; var42 - > var62 - > var67 = var44 ; if ( var45 > 1 ) var42 - > var62 - > var68 - > var69 . var46 = var46 ; if ( var45 > 2 ) var42 - > var62 - > var68 - > var69 . var47 = var47 ; } else if ( ( var45 = var64 ( var31 - > var24 , stringl stringl stringl , ( char * ) & var44 , & var48 , & var49 , & var50 , & var51 ) ) > 0 ) { var42 - > var62 - > var65 = var70 ; var42 - > var62 - > var67 = var44 ; if ( var45 > 1 ) var42 - > var62 - > var68 - > var71 . var48 = var48 ; if ( var45 > 2 ) var42 - > var62 - > var68 - > var71 . var72 = var49 ; if ( var45 > 3 ) var42 - > var62 - > var68 - > var71 . var73 = var50 ; if ( var45 > 4 ) var42 - > var62 - > var68 - > var71 . var74 = var51 ; } if ( ( var45 = var64 ( var31 - > var24 , stringl stringl stringl , ( char * ) & var44 , & var52 ) ) > 0 ) { var42 - > var62 - > var65 = var75 ; var42 - > var62 - > var67 = var44 ; if ( var45 > 1 ) var42 - > var62 - > var68 - > var76 . var77 = var52 ; } } if ( ! var42 ) continue ; comment comment if ( var64 ( var31 - > var24 , var78 stringl stringl stringl , & var52 ) = = 1 ) { var42 - > var32 - > var31 - > var19 = var52 ; var79 ( var30 , var78 stringl stringl stringl , var52 ) ; } comment else if ( var64 ( var31 - > var24 , var80 stringl stringl stringl , var42 - > var32 - > var31 - > var17 ) = = 1 ) var79 ( var30 , var80 stringl stringl stringl , var42 - > var32 - > var31 - > var17 ) ; comment else if ( var64 ( var31 - > var24 , var81 stringl stringl stringl , ( char * ) & var44 ) = = 1 ) { var42 - > var62 - > var82 = var44 ; var79 ( var30 , var81 stringl stringl stringl , ( char * ) & var44 ) ; } comment else if ( var64 ( var31 - > var24 , var83 stringl stringl stringl , & var52 ) = = 1 ) { var42 - > var62 - > var84 = var52 ; var79 ( var30 , var83 stringl stringl stringl , var52 ) ; } comment else if ( ! var55 ( var31 - > var24 , var85 , sizeof ( var85 ) - 1 ) ) { var42 - > var62 - > var6 & = ~ var63 ; var79 ( var30 , var85 ) ; } comment else if ( var42 - > var62 - > var65 = = var66 & & var64 ( var31 - > var24 , var86 stringl stringl stringl , & var46 , & var47 ) = = 2 ) { var42 - > var62 - > var68 - > var69 . var87 = var46 ; var42 - > var62 - > var68 - > var69 . var88 = var47 ; var79 ( var30 , var86 stringl stringl stringl , var46 , var47 ) ; } comment else if ( var42 - > var62 - > var65 = = var66 & & var64 ( var31 - > var24 , var89 stringl stringl stringl , & var46 , & var47 ) = = 2 ) { var42 - > var62 - > var68 - > var69 . var90 = var46 ; var42 - > var62 - > var68 - > var69 . var91 = var47 ; var79 ( var30 , var89 stringl stringl stringl , var46 , var47 ) ; } } if ( var42 ) var92 ( var30 , var42 ) ; return var38 ; } static uint32_t var93 ( var28 * var30 , unsigned int var5 , uint32_t var6 ) { typedef struct { uint32_t var94 ; uint32_t var95 ; } var96 ; const var96 var97 [ ] = { { 1 < < 1 , var98 } , { 1 < < 2 , var99 } , { 1 < < 3 , var100 } , { 1 < < 4 , var101 } , { 1 < < 5 , var102 } , { 1 < < 6 , var103 } , { 0 , 0 } } ; const var96 var104 [ ] = { { intl , var99 } , { intl , var100 } , { intl , var102 } , { 0 , 0 } } ; const var96 * var105 = xxup null ; int var33 ; switch ( var30 - > var22 [ var5 ] - > var32 - > var31 - > var19 ) { case var2 : var105 = var97 ; break ; case var3 : var105 = var104 ; break ; default : break ; } if ( var105 ) { uint32_t var106 = 0 ; for ( var33 = 0 ; var105 [ var33 ] . var94 ; var33 + + ) if ( var105 [ var33 ] . var94 & var6 ) var106 | = var105 [ var33 ] . var95 ; return var106 ; } return var6 ; } static int64_t var107 ( var28 * var30 , unsigned int var5 , int64_t var10 , uint32_t var6 ) { if ( var30 - > var22 [ var5 ] - > var32 - > var31 - > var19 = = var3 & & var6 & intl ) return var108 ; return var10 ; } comment static var26 var109 ( var28 * var30 , var110 * var111 , uint32_t var6 ) { var20 * var31 = var30 - > var32 - > var31 ; var11 * var112 ; var26 var113 = var40 ; var4 * var12 ; comment if ( var6 & var114 ) var12 = var30 - > var22 [ var111 - > var42 ] - > var32 - > var31 - > var12 ; else var12 = & var31 - > var12 ; comment if ( ! var12 - > var9 ) { unsigned int var5 , var115 ; int64_t var10 ; int var6 ; var116 ( var30 , var12 - > var7 ) ; var113 = var29 ( var30 ) ; if ( var113 ! = var40 ) return var113 ; if ( var64 ( var31 - > var24 , stringl stringl stringl var117 stringl stringl stringl , & var5 , & var115 , & var10 , & var6 ) ! = 4 & & ( var5 = 0 , var64 ( var31 - > var24 , stringl stringl stringl var117 stringl stringl stringl , & var115 , & var10 , & var6 ) ) ! = 3 ) { var37 ( var30 , stringl stringl stringl , var31 - > var24 ) ; return var38 ; } var12 - > var7 = var118 ( var30 ) ; if ( var5 > = var30 - > var58 ) { var119 ( var30 , stringl stringl stringl , var115 , var5 , var30 - > var58 ) ; return var120 ; } comment if ( var12 = = & var31 - > var12 & & var30 - > var22 [ var5 ] - > var32 - > var31 - > var12 ! = & var31 - > var12 ) { var119 ( var30 , stringl stringl stringl , var5 ) ; var30 - > var22 [ var5 ] - > var32 - > var31 - > var12 = & var31 - > var12 ; var31 - > var12 = var30 - > var22 [ var5 ] - > var32 - > var31 - > var13 ; return var120 ; } var12 - > var8 = var12 - > var9 = var115 ; var12 - > var5 = var5 ; var12 - > var6 = var93 ( var30 , var5 , var6 ) ; var12 - > var10 = var107 ( var30 , var5 , var10 , var6 ) ; comment if ( ! var12 - > var8 & & ! var12 - > var6 ) return var120 ; } comment if ( ( var6 & var114 ) & & var12 - > var5 ! = var111 - > var42 ) { var119 ( var30 , stringl stringl stringl , var12 - > var5 , var30 - > var58 ) ; var112 = var30 - > var22 [ var111 - > var42 ] - > var32 - > var31 ; comment if ( var12 = = & var31 - > var12 & & var30 - > var22 [ var12 - > var5 ] - > var32 - > var31 - > var12 = = & var31 - > var12 ) { comment var119 ( var30 , stringl stringl stringl , var111 - > var42 ) ; var112 - > var13 = var31 - > var12 ; var112 - > var12 = & var112 - > var13 ; } var112 - > var12 - > var9 = 0 ; return var120 ; } comment comment var112 = var30 - > var22 [ var12 - > var5 ] - > var32 - > var31 ; var111 - > var42 = var12 - > var5 ; var111 - > var115 = var12 - > var9 ; var111 - > var121 = ( var12 - > var6 & var122 ) ? var12 - > var8 : 0 ; var111 - > var6 = var12 - > var6 ; var111 - > var10 = var12 - > var10 ; var111 - > var123 = var108 ; if ( var12 - > var9 ! = var12 - > var8 ) var111 - > var6 & = ~ var98 ; if ( var6 & var124 ) { var112 - > var16 + = var12 - > var9 ; var12 - > var9 = 0 ; return var40 ; } if ( var6 & var125 ) { return var40 ; } comment var126 ( var112 - > var15 , var112 - > var16 ) ; var111 - > var115 = var127 ( var112 - > var15 , var111 - > var128 , var129 ( var111 - > var130 , var12 - > var9 ) ) ; var12 - > var9 - = var111 - > var115 ; var112 - > var16 + = var111 - > var115 ; if ( var12 - > var9 ) var111 - > var6 & = ~ var99 ; return var112 - > var15 - > var113 ; } comment static var26 var131 ( var28 * var30 , int64_t * var132 , var133 var134 , var135 var6 ) { var136 ( var30 ) ; var136 ( var132 ) ; var136 ( var134 ) ; var136 ( var6 ) ; return var137 ; } comment static var26 var138 ( var28 * var30 ) { var20 * var31 = var30 - > var32 - > var31 ; for ( ; var30 - > var58 > 0 ; var30 - > var58 - - ) { var21 * var42 = var30 - > var22 [ var30 - > var58 - 1 ] ; if ( var42 - > var32 - > var31 - > var15 ) var139 ( var42 - > var32 - > var31 - > var15 ) ; var92 ( var30 , var42 ) ; } var140 ( var31 ) ; return var40 ; } comment var26 var27 ( var28 * var30 ) { var20 * var31 = 0 ; var26 var113 = var141 ; uint8_t var142 [ sizeof ( var57 ) ] ; unsigned int var33 ; comment if ( var35 ( var30 , var142 , sizeof ( var142 ) ) ! = sizeof ( var142 ) | | var55 ( var142 , var57 , sizeof ( var57 ) - 1 ) ) return var143 ; var119 ( var30 , stringl stringl stringl ) ; comment var31 = var144 ( sizeof ( * var31 ) ) ; if ( ! var31 ) return var60 ; var145 ( var31 , 0 , sizeof ( * var31 ) ) ; var30 - > var32 - > var31 = var31 ; var30 - > var22 = var31 - > var22 ; var113 = var41 ( var30 ) ; if ( var113 ! = var40 ) goto var146 ; comment for ( var33 = 0 ; var33 < var30 - > var58 ; var33 + + ) { var21 * var42 = var30 - > var22 [ var33 ] ; char * var17 ; var42 - > var32 - > var31 - > var15 = var147 ( var42 - > var32 - > var31 - > var17 , var148 , & var113 ) ; comment if ( ! var42 - > var32 - > var31 - > var15 & & ( var17 = var144 ( var149 ( var30 - > var32 - > var15 - > var17 ) + var149 ( var42 - > var32 - > var31 - > var17 ) + 1 ) ) ! = xxup null ) { char * var150 ; var151 ( var17 , var30 - > var32 - > var15 - > var17 ) ; comment for ( var150 = var17 + var149 ( var30 - > var32 - > var15 - > var17 ) + 1 ; var150 ! = var17 ; var150 - - ) if ( * ( var150 - 1 ) = = charl charl charl | | * ( var150 - 1 ) = = charl charl charl ) break ; var151 ( var150 , var42 - > var32 - > var31 - > var17 ) ; var42 - > var32 - > var31 - > var15 = var147 ( var17 , var148 , & var113 ) ; if ( ! var42 - > var32 - > var31 - > var15 ) var37 ( var30 , stringl stringl stringl , var17 ) ; var140 ( var17 ) ; } if ( ! var42 - > var32 - > var31 - > var15 ) { var37 ( var30 , stringl stringl stringl , var42 - > var32 - > var31 - > var17 ) ; goto var146 ; } } comment var31 - > var7 = var118 ( var30 ) ; comment var31 - > var12 . var7 = var31 - > var7 ; for ( var33 = 0 ; var33 < var30 - > var58 ; var33 + + ) { var21 * var42 = var30 - > var22 [ var33 ] ; var42 - > var32 - > var31 - > var12 = & var31 - > var12 ; } comment for ( var33 = 0 ; var33 < var30 - > var58 ; var33 + + ) { var21 * var42 = var30 - > var22 [ var33 ] ; var110 var111 ; var111 . var42 = var33 ; var113 = var120 ; while ( var113 = = var120 ) var113 = var109 ( var30 , & var111 , var125 | var114 ) ; if ( var113 ! = var40 ) continue ; var113 = var152 ( var30 , var42 , var111 . var115 ) ; if ( var113 ! = var40 ) continue ; var111 . var128 = var42 - > var62 - > var153 ; var111 . var130 = var111 . var115 ; var111 . var115 = 0 ; var113 = var109 ( var30 , & var111 , var114 ) ; if ( var113 ! = var40 ) continue ; var42 - > var62 - > var154 = var111 . var115 ; } var30 - > var32 - > var155 = var138 ; var30 - > var32 - > var156 = var109 ; var30 - > var32 - > var157 = var131 ; return var40 ; var146 : var37 ( var30 , stringl stringl stringl , var113 ) ; var138 ( var30 ) ; return var113 ; } comment xxwrep 8 preproc preproc\n",
       "y: LMLabelList\n",
       ",,,,\n",
       "Path: /home/jesko/.fastai/data/c;\n",
       "\n",
       "Test: None"
      ]
     },
     "execution_count": 10,
     "metadata": {},
     "output_type": "execute_result"
    }
   ],
   "source": [
    "data_lm = (TextList.from_folder(path)\n",
    "                   .split_by_rand_pct(0.1)\n",
    "                   .label_for_lm()\n",
    "                   .databunch(bs=64))\n",
    "data_lm"
   ]
  },
  {
   "cell_type": "markdown",
   "metadata": {
    "colab_type": "text",
    "id": "o4cnrcuu5WPL"
   },
   "source": [
    "Now all the code is in a TextDataBunch. This automatically handles the rest of the tokenization and the numericalization"
   ]
  },
  {
   "cell_type": "code",
   "execution_count": 0,
   "metadata": {
    "colab": {},
    "colab_type": "code",
    "id": "WXDHTKBC5WPM"
   },
   "outputs": [],
   "source": [
    "data_lm.save()"
   ]
  },
  {
   "cell_type": "markdown",
   "metadata": {
    "colab_type": "text",
    "id": "7S0pplSodmJf"
   },
   "source": [
    "Let's look at some of the tokens it produced"
   ]
  },
  {
   "cell_type": "code",
   "execution_count": 6,
   "metadata": {
    "colab": {
     "base_uri": "https://localhost:8080/",
     "height": 293
    },
    "colab_type": "code",
    "id": "d14fxY405WPe",
    "outputId": "5c87733f-5ebd-4067-8054-3b6c4fe2f2b3"
   },
   "outputs": [
    {
     "data": {
      "text/plain": [
       "['xxunk',\n",
       " 'xxpad',\n",
       " 'xxbos',\n",
       " 'xxeos',\n",
       " 'xxfld',\n",
       " 'xxmaj',\n",
       " 'xxup',\n",
       " 'xxrep',\n",
       " 'xxwrep',\n",
       " ',',\n",
       " ')',\n",
       " '(',\n",
       " ';',\n",
       " 'stringl',\n",
       " '=']"
      ]
     },
     "execution_count": 6,
     "metadata": {
      "tags": []
     },
     "output_type": "execute_result"
    }
   ],
   "source": [
    "data_lm.vocab.itos[:15]"
   ]
  },
  {
   "cell_type": "markdown",
   "metadata": {
    "colab_type": "text",
    "id": "yodCEXXq5WP1"
   },
   "source": [
    "## Language model"
   ]
  },
  {
   "cell_type": "code",
   "execution_count": 7,
   "metadata": {
    "colab": {
     "base_uri": "https://localhost:8080/",
     "height": 293
    },
    "colab_type": "code",
    "id": "ddyWiYyA5WQP",
    "outputId": "2152a6b3-947a-41d1-b29c-127b82e87bb9"
   },
   "outputs": [
    {
     "data": {
      "text/html": [
       "<table border=\"1\" class=\"dataframe\">\n",
       "  <thead>\n",
       "    <tr style=\"text-align: right;\">\n",
       "      <th>idx</th>\n",
       "      <th>text</th>\n",
       "    </tr>\n",
       "  </thead>\n",
       "  <tbody>\n",
       "    <tr>\n",
       "      <td>0</td>\n",
       "      <td>var22 ; } var23 ; static var23 var24 [ var25 ] ; static uint16_t var26 [ var27 ] ; xxwrep 6 preproc static uint8_t var28 = 0 ; static uint8_t var29 = 0 ; static uint8_t var30 = 1 ; typedef struct var31 { comment uint32_t var32 ; uint32_t var33 ; uint32_t var34 ; uint32_t var26 [ var27 ] ; uint32_t var35 ; uint8_t var36 ; int8_t var37 ; int8_t</td>\n",
       "    </tr>\n",
       "    <tr>\n",
       "      <td>1</td>\n",
       "      <td>( ! var104 ( var54 ) ) { goto var105 ; } xxwrep 4 comment var178 ( var85 ) ; comment comment comment var92 + = 1 ; var179 ( var85 ) ; comment comment comment var92 + = 1 ; var180 ( &amp; var66 , &amp; ( var85 - &gt; var181 ) ) ; var142 ( &amp; var66 ) ; var85 - &gt; var90 = var90 ; comment comment</td>\n",
       "    </tr>\n",
       "    <tr>\n",
       "      <td>2</td>\n",
       "      <td>var321 ( var259 , var47 , var256 , 0 , - 1 , var322 ) ; var331 = var323 ( var266 , var121 ) ; var388 ( var256 , var179 , var331 , var215 , var383 , var382 , var366 , var6 ) ; return var381 ( var256 ) ; } static var15 var389 ( var255 * var256 , var178 * var179 , var258 * var259 , void * var6</td>\n",
       "    </tr>\n",
       "    <tr>\n",
       "      <td>3</td>\n",
       "      <td>} else { comment while ( var47 ( var89 ) = = var50 ) { } comment * ( uint32_t * ) ( var19 ) = var58 ( ) ; var19 + = 4 ; * ( uint32_t * ) ( var19 ) = var58 ( ) ; var19 + = 4 ; * ( uint32_t * ) ( var19 ) = var58 ( ) ; var19 + = 4</td>\n",
       "    </tr>\n",
       "    <tr>\n",
       "      <td>4</td>\n",
       "      <td>floatl , floatl , - floatl , floatl , - floatl , floatl , - floatl , floatl , - floatl , floatl , - floatl , floatl , - floatl , floatl , - floatl , floatl , - floatl , floatl , - floatl , floatl , - floatl , floatl , - floatl , floatl , - floatl , floatl , - floatl , floatl , -</td>\n",
       "    </tr>\n",
       "  </tbody>\n",
       "</table>"
      ],
      "text/plain": [
       "<IPython.core.display.HTML object>"
      ]
     },
     "metadata": {
      "tags": []
     },
     "output_type": "display_data"
    }
   ],
   "source": [
    "data_lm.show_batch()"
   ]
  },
  {
   "cell_type": "markdown",
   "metadata": {
    "colab_type": "text",
    "id": "yQBTTZiz5WQU"
   },
   "source": [
    "We can then put this in a learner object very easily with a model loaded with the pretrained weights. They'll be downloaded the first time you'll execute the following line and stored in `~/.fastai/models/` (or elsewhere if you specified different paths in your config file)."
   ]
  },
  {
   "cell_type": "code",
   "execution_count": 11,
   "metadata": {
    "colab": {},
    "colab_type": "code",
    "id": "gtbEzH_V5WQU"
   },
   "outputs": [],
   "source": [
    "learn = language_model_learner(data_lm, AWD_LSTM, pretrained=False)"
   ]
  },
  {
   "cell_type": "code",
   "execution_count": 12,
   "metadata": {
    "colab": {},
    "colab_type": "code",
    "id": "jSl3QLIC3590"
   },
   "outputs": [],
   "source": [
    "learn.unfreeze()"
   ]
  },
  {
   "cell_type": "code",
   "execution_count": 10,
   "metadata": {
    "colab": {
     "base_uri": "https://localhost:8080/",
     "height": 114
    },
    "colab_type": "code",
    "id": "KFe216sq5WQY",
    "outputId": "9e4e1eca-20a4-4e65-d6c9-fc691e438f1e"
   },
   "outputs": [
    {
     "data": {
      "text/html": [
       "\n",
       "    <div>\n",
       "        <style>\n",
       "            /* Turns off some styling */\n",
       "            progress {\n",
       "                /* gets rid of default border in Firefox and Opera. */\n",
       "                border: none;\n",
       "                /* Needs to be in here for Safari polyfill so background images work as expected. */\n",
       "                background-size: auto;\n",
       "            }\n",
       "            .progress-bar-interrupted, .progress-bar-interrupted::-webkit-progress-bar {\n",
       "                background: #F44336;\n",
       "            }\n",
       "        </style>\n",
       "      <progress value='0' class='' max='1' style='width:300px; height:20px; vertical-align: middle;'></progress>\n",
       "      0.00% [0/1 00:00<00:00]\n",
       "    </div>\n",
       "    \n",
       "<table border=\"1\" class=\"dataframe\">\n",
       "  <thead>\n",
       "    <tr style=\"text-align: left;\">\n",
       "      <th>epoch</th>\n",
       "      <th>train_loss</th>\n",
       "      <th>valid_loss</th>\n",
       "      <th>accuracy</th>\n",
       "      <th>time</th>\n",
       "    </tr>\n",
       "  </thead>\n",
       "  <tbody>\n",
       "  </tbody>\n",
       "</table><p>\n",
       "\n",
       "    <div>\n",
       "        <style>\n",
       "            /* Turns off some styling */\n",
       "            progress {\n",
       "                /* gets rid of default border in Firefox and Opera. */\n",
       "                border: none;\n",
       "                /* Needs to be in here for Safari polyfill so background images work as expected. */\n",
       "                background-size: auto;\n",
       "            }\n",
       "            .progress-bar-interrupted, .progress-bar-interrupted::-webkit-progress-bar {\n",
       "                background: #F44336;\n",
       "            }\n",
       "        </style>\n",
       "      <progress value='88' class='' max='13149' style='width:300px; height:20px; vertical-align: middle;'></progress>\n",
       "      0.67% [88/13149 00:57<2:21:38 27.2127]\n",
       "    </div>\n",
       "    "
      ],
      "text/plain": [
       "<IPython.core.display.HTML object>"
      ]
     },
     "metadata": {
      "tags": []
     },
     "output_type": "display_data"
    },
    {
     "name": "stdout",
     "output_type": "stream",
     "text": [
      "LR Finder is complete, type {learner_name}.recorder.plot() to see the graph.\n"
     ]
    }
   ],
   "source": [
    "learn.lr_find()"
   ]
  },
  {
   "cell_type": "code",
   "execution_count": 11,
   "metadata": {
    "colab": {
     "base_uri": "https://localhost:8080/",
     "height": 279
    },
    "colab_type": "code",
    "id": "gyZxhL6y5WQc",
    "outputId": "43d47aef-e488-4c28-8a1b-9cc16dd59868"
   },
   "outputs": [
    {
     "data": {
      "image/png": "[encoded data removed]",
      "text/plain": [
       "<Figure size 432x288 with 1 Axes>"
      ]
     },
     "metadata": {
      "needs_background": "light",
      "tags": []
     },
     "output_type": "display_data"
    }
   ],
   "source": [
    "learn.recorder.plot(skip_end=15)"
   ]
  },
  {
   "cell_type": "markdown",
   "metadata": {
    "colab_type": "text",
    "id": "qjAO7LNY5WQq"
   },
   "source": [
    "Train"
   ]
  },
  {
   "cell_type": "code",
   "execution_count": 13,
   "metadata": {
    "colab": {
     "base_uri": "https://localhost:8080/",
     "height": 95
    },
    "colab_type": "code",
    "id": "pIETpAMd5WQ1",
    "outputId": "9530dffe-9f02-4dff-c623-af656018ddea"
   },
   "outputs": [
    {
     "data": {
      "text/html": [
       "<table border=\"1\" class=\"dataframe\">\n",
       "  <thead>\n",
       "    <tr style=\"text-align: left;\">\n",
       "      <th>epoch</th>\n",
       "      <th>train_loss</th>\n",
       "      <th>valid_loss</th>\n",
       "      <th>accuracy</th>\n",
       "      <th>time</th>\n",
       "    </tr>\n",
       "  </thead>\n",
       "  <tbody>\n",
       "    <tr>\n",
       "      <td>0</td>\n",
       "      <td>1.694231</td>\n",
       "      <td>1.979171</td>\n",
       "      <td>0.585325</td>\n",
       "      <td>54:21</td>\n",
       "    </tr>\n",
       "    <tr>\n",
       "      <td>1</td>\n",
       "      <td>1.311855</td>\n",
       "      <td>1.707772</td>\n",
       "      <td>0.625738</td>\n",
       "      <td>51:33</td>\n",
       "    </tr>\n",
       "    <tr>\n",
       "      <td>2</td>\n",
       "      <td>1.320493</td>\n",
       "      <td>1.575885</td>\n",
       "      <td>0.651085</td>\n",
       "      <td>51:26</td>\n",
       "    </tr>\n",
       "    <tr>\n",
       "      <td>3</td>\n",
       "      <td>1.166261</td>\n",
       "      <td>1.502478</td>\n",
       "      <td>0.669221</td>\n",
       "      <td>52:25</td>\n",
       "    </tr>\n",
       "    <tr>\n",
       "      <td>4</td>\n",
       "      <td>1.179953</td>\n",
       "      <td>1.439014</td>\n",
       "      <td>0.680631</td>\n",
       "      <td>51:33</td>\n",
       "    </tr>\n",
       "    <tr>\n",
       "      <td>5</td>\n",
       "      <td>1.071871</td>\n",
       "      <td>1.362693</td>\n",
       "      <td>0.694402</td>\n",
       "      <td>51:59</td>\n",
       "    </tr>\n",
       "    <tr>\n",
       "      <td>6</td>\n",
       "      <td>1.080683</td>\n",
       "      <td>1.308910</td>\n",
       "      <td>0.704684</td>\n",
       "      <td>52:11</td>\n",
       "    </tr>\n",
       "    <tr>\n",
       "      <td>7</td>\n",
       "      <td>1.034828</td>\n",
       "      <td>1.261611</td>\n",
       "      <td>0.712806</td>\n",
       "      <td>51:29</td>\n",
       "    </tr>\n",
       "    <tr>\n",
       "      <td>8</td>\n",
       "      <td>1.011904</td>\n",
       "      <td>1.241413</td>\n",
       "      <td>0.719626</td>\n",
       "      <td>52:45</td>\n",
       "    </tr>\n",
       "    <tr>\n",
       "      <td>9</td>\n",
       "      <td>1.078536</td>\n",
       "      <td>1.241482</td>\n",
       "      <td>0.720547</td>\n",
       "      <td>52:38</td>\n",
       "    </tr>\n",
       "  </tbody>\n",
       "</table>"
      ],
      "text/plain": [
       "<IPython.core.display.HTML object>"
      ]
     },
     "metadata": {},
     "output_type": "display_data"
    }
   ],
   "source": [
    "learn.fit_one_cycle(10, 2e-3, moms=(0.8,0.7))"
   ]
  },
  {
   "cell_type": "code",
   "execution_count": 14,
   "metadata": {
    "colab": {},
    "colab_type": "code",
    "id": "d9eYV8TB5WQ4"
   },
   "outputs": [],
   "source": [
    "learn.save('c_lm_v1')"
   ]
  },
  {
   "cell_type": "code",
   "execution_count": null,
   "metadata": {},
   "outputs": [],
   "source": []
  }
 ],
 "metadata": {
  "accelerator": "GPU",
  "colab": {
   "collapsed_sections": [],
   "name": "autocoder.ipynb",
   "provenance": [],
   "toc_visible": true
  },
  "kernelspec": {
   "display_name": "Python 3",
   "language": "python",
   "name": "python3"
  },
  "language_info": {
   "codemirror_mode": {
    "name": "ipython",
    "version": 3
   },
   "file_extension": ".py",
   "mimetype": "text/x-python",
   "name": "python",
   "nbconvert_exporter": "python",
   "pygments_lexer": "ipython3",
   "version": "3.8.2"
  }
 },
 "nbformat": 4,
 "nbformat_minor": 1
}
